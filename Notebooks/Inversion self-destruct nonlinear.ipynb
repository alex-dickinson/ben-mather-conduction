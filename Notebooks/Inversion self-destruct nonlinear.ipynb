{
 "cells": [
  {
   "cell_type": "markdown",
   "metadata": {},
   "source": [
    "# N-dimensional nonlinear inversion\n",
    "\n",
    "The user manually builds their own forward model (and adjoint model, for now). The forward model is constructed using components of the Inversion module. This affords us more flexibility without writing many lines of code.\n",
    "\n",
    "This module calls the ConductionND module, which can be accessed directly from the .mesh attribute."
   ]
  },
  {
   "cell_type": "code",
   "execution_count": 24,
   "metadata": {},
   "outputs": [],
   "source": [
    "import numpy as np\n",
    "from conduction import ConductionND\n",
    "from conduction.inversion import InvObservation, InvPrior\n",
    "from conduction import InversionND\n",
    "from petsc4py import PETSc\n",
    "import matplotlib.pyplot as plt\n",
    "%matplotlib inline"
   ]
  },
  {
   "cell_type": "code",
   "execution_count": 25,
   "metadata": {},
   "outputs": [],
   "source": [
    "minX, maxX = 0.0, 1000.0\n",
    "minY, maxY = 0.0, 1000.0\n",
    "minZ, maxZ = -35e3, 1000.0\n",
    "nx, ny, nz = 10, 9, 10\n",
    "n = nx*ny*nz\n",
    "\n",
    "mesh = ConductionND((minX, minY, minZ), (maxX, maxY, maxZ), (nx,ny,nz))\n",
    "\n",
    "# BCs\n",
    "mesh.boundary_condition('maxZ', 298.0, flux=False)\n",
    "mesh.boundary_condition('minZ', 0.04, flux=True)"
   ]
  },
  {
   "cell_type": "code",
   "execution_count": 26,
   "metadata": {},
   "outputs": [
    {
     "data": {
      "text/plain": [
       "<matplotlib.colorbar.Colorbar at 0x7fa4102f3ad0>"
      ]
     },
     "execution_count": 26,
     "metadata": {},
     "output_type": "execute_result"
    },
    {
     "data": {
      "image/png": "[encoded data removed]",
      "text/plain": [
       "<matplotlib.figure.Figure at 0x7fa41057b210>"
      ]
     },
     "metadata": {},
     "output_type": "display_data"
    }
   ],
   "source": [
    "lithology = np.zeros((nz,ny,nx), dtype='int32')\n",
    "lithology[:,3:7,:] = 1\n",
    "lithology[:,7:,:]  = 2\n",
    "\n",
    "plt.pcolor(lithology[5,:,:])\n",
    "plt.colorbar()"
   ]
  },
  {
   "cell_type": "code",
   "execution_count": 27,
   "metadata": {},
   "outputs": [],
   "source": [
    "def hofmeister1999(k0, T, a=0.25, c=0.0):\n",
    "    return k0*(298.0/T)**a + c*T**3\n",
    "\n",
    "def hofmeister1999_ad():\n",
    "    pass"
   ]
  },
  {
   "cell_type": "code",
   "execution_count": 32,
   "metadata": {},
   "outputs": [],
   "source": [
    "def forward_model(self, x, bc='Z'):\n",
    "    k_list, H_list, a_list = np.array_split(x[:-1], 3)\n",
    "    q0 = x[-1]\n",
    "    \n",
    "    # map to mesh\n",
    "    k0, H, a = self.map(k_list, H_list, a_list)\n",
    "    k = k0.copy()\n",
    "    \n",
    "    self.mesh.update_properties(k0, H)\n",
    "    self.mesh.boundary_condition(\"max\"+bc, 298.0, flux=False)\n",
    "    self.mesh.boundary_condition(\"min\"+bc, q0, flux=True)\n",
    "    rhs = self.mesh.construct_rhs()\n",
    "    \n",
    "    error = 10.\n",
    "    tolerance = 1e-5\n",
    "    i = 0\n",
    "    while error > tolerance:\n",
    "        k_last = k.copy()\n",
    "        self.mesh.diffusivity[:] = k\n",
    "        T = self.linear_solve(rhs=rhs) # solve\n",
    "        k = hofmeister1999(k0, T, a)\n",
    "        error = np.absolute(k - k_last).max()\n",
    "        i += 1\n",
    "    print(\"{} iterations\".format(i))\n",
    "        \n",
    "    q = self.heatflux(self.mesh.temperature[:], self.mesh.diffusivity[:])\n",
    "    delT = self.gradient(T)\n",
    "    \n",
    "    cost = 0.0\n",
    "    cost += self.objective_routine(q=q[0], T=T, delT=delT[0]) # observations\n",
    "    cost += self.objective_routine(k=k_list, H=H_list, a=a_list, q0=q0) # priors\n",
    "    return cost"
   ]
  },
  {
   "cell_type": "code",
   "execution_count": 33,
   "metadata": {},
   "outputs": [],
   "source": [
    "def adjoint_model(self, x, bc='Z'):\n",
    "    k_list, H_list, a_list = np.array_split(x[:-1], 3)\n",
    "    q0 = x[-1]\n",
    "    \n",
    "    # map to mesh\n",
    "    k0, H, a = self.map(k_list, H_list, a_list)\n",
    "    k = [k0.copy()]\n",
    "    T = [None]\n",
    "    \n",
    "    self.mesh.update_properties(k0, H)\n",
    "    self.mesh.boundary_condition(\"max\"+bc, 298.0, flux=False)\n",
    "    self.mesh.boundary_condition(\"min\"+bc, q0, flux=True)\n",
    "    rhs = self.mesh.construct_rhs()\n",
    "    \n",
    "    error = 10.\n",
    "    tolerance = 1e-5\n",
    "    i = 0\n",
    "    self.mesh.temperature._gdata.set(0.)\n",
    "    while error > tolerance:\n",
    "        self.mesh.diffusivity[:] = k[i]\n",
    "        # solve\n",
    "        Ti = self.linear_solve(rhs=rhs)\n",
    "        ki = hofmeister1999(k0, Ti, a)\n",
    "        T.append(Ti.copy())\n",
    "        k.append(ki.copy())\n",
    "        error = np.absolute(k[-1] - k[-2]).max()\n",
    "        i += 1\n",
    "    print(\"{} iterations\".format(i))\n",
    "\n",
    "    q = self.heatflux(T[-1], k[-1])\n",
    "    delT = self.gradient(T[-1])\n",
    "    \n",
    "    cost = 0.0\n",
    "    cost += self.objective_routine(q=q[0], T=T[-1], delT=delT[0]) # observations\n",
    "    cost += self.objective_routine(k=k_list, H=H_list, a=a_list, q0=q0) # priors\n",
    "    \n",
    "    ## AD ##\n",
    "    dk = np.zeros_like(H)\n",
    "    dH = np.zeros_like(H)\n",
    "    dT = np.zeros_like(H)\n",
    "    da = np.zeros_like(H)\n",
    "    dk0 = np.zeros_like(H)\n",
    "    dq0 = np.array(0.0)\n",
    "    \n",
    "    # priors\n",
    "    dcdk_list = self.objective_routine_ad(k=k_list)\n",
    "    dcdH_list = self.objective_routine_ad(H=H_list)\n",
    "    dcda_list = self.objective_routine_ad(a=a_list)\n",
    "    dcdq0 = self.objective_routine_ad(q0=q0)\n",
    "    # observations\n",
    "    dT += self.objective_routine_ad(T=T[-1])\n",
    "\n",
    "    dq = np.zeros_like(q)\n",
    "    dq[0] = self.objective_routine_ad(q=q[0])\n",
    "    \n",
    "    ddelT = np.zeros_like(delT)\n",
    "    ddelT[0] = self.objective_routine_ad(delT=delT[0])\n",
    "    \n",
    "\n",
    "    dTd = self.gradient_ad(ddelT, T[-1])\n",
    "    dT += dTd\n",
    "    \n",
    "    dTq, dkq = self.heatflux_ad(dq, q, T[-1], k[-1])\n",
    "    dT += dTq\n",
    "    dk += dkq\n",
    "    \n",
    "\n",
    "    # solve\n",
    "    for j in xrange(i):\n",
    "        dkda = np.log(298.0/T[-1-j])*k0*(298.0/T[-1-j])**a\n",
    "        dkdk0 = (298.0/T[-1-j])**a\n",
    "        dkdT = -a*k0/T[-1-j]*(298.0/T[-1-j])**a\n",
    "        \n",
    "        dk0 += dkdk0*dk\n",
    "        dT  += dkdT*dk\n",
    "        da  += dkda*dk\n",
    "        \n",
    "        dk.fill(0.0)\n",
    "        \n",
    "\n",
    "        self.mesh.diffusivity[:] = k[-1-j]\n",
    "        dA, db = self.linear_solve_ad(T[-1-j], dT)\n",
    "\n",
    "        dk += dA\n",
    "        dH += -db\n",
    "        dz = self.grid_delta[-1]\n",
    "        lowerBC_mask = self.mesh.bc[\"min\"+bc][\"mask\"]\n",
    "        dq0 += np.sum(-db[lowerBC_mask]/dz/inv.ghost_weights[lowerBC_mask])\n",
    "        \n",
    "        dT.fill(0.0)\n",
    "        \n",
    "    dk0 += dk\n",
    "        \n",
    "    # pack to lists\n",
    "    dk_list, dH_list, da_list = inv.map_ad(dk0, dH, da)\n",
    "    dk_list += dcdk_list\n",
    "    dH_list += dcdH_list\n",
    "    da_list += dcda_list\n",
    "    dq0 += dcdq0\n",
    "    \n",
    "    dx = np.hstack([dk_list, dH_list, da_list, [dq0]])\n",
    "    \n",
    "    return cost, dx"
   ]
  },
  {
   "cell_type": "code",
   "execution_count": 34,
   "metadata": {},
   "outputs": [],
   "source": [
    "inv = InversionND(lithology.flatten(), mesh)\n",
    "\n",
    "k = np.array([3.5, 2.0, 3.2])\n",
    "H = np.array([0.1e-6, 1e-6, 2e-6])\n",
    "a = np.array([0.25, 0.25, 0.25])*0.0\n",
    "q0 = 35e-3\n",
    "\n",
    "x = np.hstack([k, H, a, [q0]])\n",
    "dx = x*0.01\n",
    "\n",
    "# Priors\n",
    "k_prior = k*1.1\n",
    "H_prior = H*1.1\n",
    "a_prior = a*1.1\n",
    "q0_prior = np.array(30e-3)\n",
    "\n",
    "sigma_k = k*0.1\n",
    "sigma_H = H*0.1\n",
    "sigma_a = a*0.1\n",
    "sigma_q0 = np.array(5e-3)"
   ]
  },
  {
   "cell_type": "code",
   "execution_count": 35,
   "metadata": {},
   "outputs": [
    {
     "name": "stdout",
     "output_type": "stream",
     "text": [
      "1 iterations\n",
      "1 iterations\n",
      "1 iterations\n",
      "finite difference -0.9951\n",
      "adjoint -1.06\n"
     ]
    }
   ],
   "source": [
    "from conduction.inversion import InvObservation, InvPrior\n",
    "\n",
    "kp = InvPrior(k_prior, sigma_k)\n",
    "Hp = InvPrior(H_prior, sigma_H)\n",
    "ap = InvPrior(a_prior, sigma_a)\n",
    "q0p = InvPrior(q0_prior, sigma_q0)\n",
    "\n",
    "inv.add_prior(k=kp, H=Hp, q0=q0p)\n",
    "\n",
    "fm0 = forward_model(inv, x)\n",
    "fm1 = forward_model(inv, x+dx)\n",
    "ad = adjoint_model(inv, x)\n",
    "\n",
    "print \"finite difference\", (fm1 - fm0)\n",
    "print \"adjoint\", ad[1].dot(dx)"
   ]
  },
  {
   "cell_type": "code",
   "execution_count": 36,
   "metadata": {},
   "outputs": [],
   "source": [
    "inv = InversionND(lithology.flatten(), mesh)\n",
    "\n",
    "ndelT = 50\n",
    "\n",
    "delT = np.ones(ndelT)*1e3\n",
    "sigma_delT = ndelT*0.001\n",
    "delT_coord = np.zeros((ndelT,3))\n",
    "delT_coord[:,0] = np.linspace(minX, maxX, ndelT)\n",
    "delT_coord[:,1] = np.linspace(minY, maxY, ndelT)\n",
    "delT_coord[:,2] = np.linspace(minZ, maxZ, ndelT)\n",
    "\n",
    "delTobs = InvObservation(delT, sigma_delT, delT_coord)\n",
    "\n",
    "inv.add_observation(delT=delTobs)"
   ]
  },
  {
   "cell_type": "code",
   "execution_count": 37,
   "metadata": {},
   "outputs": [
    {
     "name": "stdout",
     "output_type": "stream",
     "text": [
      "1 iterations\n",
      "1 iterations\n",
      "1 iterations\n",
      "finite difference 0.00284194946289\n",
      "adjoint 0.00300004643486\n"
     ]
    }
   ],
   "source": [
    "fm0 = forward_model(inv, x)\n",
    "fm1 = forward_model(inv, x+dx)\n",
    "ad = adjoint_model(inv, x)\n",
    "\n",
    "print \"finite difference\", (fm1 - fm0)\n",
    "print \"adjoint\", ad[1].dot(dx)"
   ]
  },
  {
   "cell_type": "markdown",
   "metadata": {},
   "source": [
    "There is something wrong with the way dT is propogated!!"
   ]
  },
  {
   "cell_type": "code",
   "execution_count": 38,
   "metadata": {},
   "outputs": [],
   "source": [
    "inv = InversionND(lithology.flatten(), mesh)\n",
    "\n",
    "nqs = 500\n",
    "\n",
    "qs = np.ones(nqs)*0.03\n",
    "sigma_qs = qs*0.5\n",
    "qs_coord = np.zeros((nqs,3))\n",
    "qs_coord[:,0] = np.linspace(minX, maxX, nqs)\n",
    "qs_coord[:,1] = np.linspace(minY, maxY, nqs)\n",
    "qs_coord[:,2] = np.linspace(minZ, maxZ, nqs)\n",
    "\n",
    "\n",
    "qobs = InvObservation(qs, sigma_qs, qs_coord)\n",
    "\n",
    "inv.add_observation(q=qobs)"
   ]
  },
  {
   "cell_type": "code",
   "execution_count": 39,
   "metadata": {},
   "outputs": [
    {
     "name": "stdout",
     "output_type": "stream",
     "text": [
      "1 iterations\n",
      "1 iterations\n",
      "1 iterations\n",
      "finite difference 57.7575028423\n",
      "adjoint 57.1304359443\n"
     ]
    }
   ],
   "source": [
    "fm0 = forward_model(inv, x)\n",
    "fm1 = forward_model(inv, x+dx)\n",
    "ad = adjoint_model(inv, x)\n",
    "\n",
    "print \"finite difference\", (fm1 - fm0)\n",
    "print \"adjoint\", ad[1].dot(dx)"
   ]
  },
  {
   "cell_type": "code",
   "execution_count": 40,
   "metadata": {},
   "outputs": [],
   "source": [
    "inv = InversionND(lithology.flatten(), mesh)\n",
    "\n",
    "size = 50\n",
    "cxy = np.empty((size,3))\n",
    "cxy[:,0] = np.random.uniform(minX, maxX, size)\n",
    "cxy[:,1] = np.random.uniform(minY, maxY, size)\n",
    "cxy[:,2] = np.random.uniform(minZ, maxZ, size)\n",
    "\n",
    "Tp = np.ones(size)*50\n",
    "sigma_Tp = 0.1*Tp\n",
    "\n",
    "Tobs = InvObservation(Tp, sigma_Tp, cxy)\n",
    "inv.add_observation(T=Tobs)"
   ]
  },
  {
   "cell_type": "code",
   "execution_count": 41,
   "metadata": {
    "scrolled": false
   },
   "outputs": [
    {
     "name": "stdout",
     "output_type": "stream",
     "text": [
      "1 iterations\n",
      "1 iterations\n",
      "1 iterations\n",
      "finite difference 0.00548392545898\n",
      "adjoint 0.00469355890073\n"
     ]
    }
   ],
   "source": [
    "fm0 = forward_model(inv, x)\n",
    "fm1 = forward_model(inv, x+dx)\n",
    "ad = adjoint_model(inv, x)\n",
    "\n",
    "print \"finite difference\", (fm1 - fm0)\n",
    "print \"adjoint\", ad[1].dot(dx)"
   ]
  },
  {
   "cell_type": "code",
   "execution_count": 42,
   "metadata": {},
   "outputs": [],
   "source": [
    "inv = InversionND(lithology.flatten(), mesh)\n",
    "\n",
    "Tp = np.ones(lithology.size)*50\n",
    "sigma_Tp = 0.01*Tp\n",
    "\n",
    "Tobs = InvObservation(Tp, sigma_Tp, mesh.coords)\n",
    "inv.add_observation(T=Tobs)"
   ]
  },
  {
   "cell_type": "code",
   "execution_count": 43,
   "metadata": {
    "scrolled": false
   },
   "outputs": [
    {
     "name": "stdout",
     "output_type": "stream",
     "text": [
      "1 iterations\n",
      "1 iterations\n",
      "1 iterations\n",
      "finite difference 9.76386904716\n",
      "adjoint 8.7328524217\n"
     ]
    }
   ],
   "source": [
    "fm0 = forward_model(inv, x)\n",
    "fm1 = forward_model(inv, x+dx)\n",
    "ad = adjoint_model(inv, x)\n",
    "\n",
    "print \"finite difference\", (fm1 - fm0)\n",
    "print \"adjoint\", ad[1].dot(dx)"
   ]
  },
  {
   "cell_type": "markdown",
   "metadata": {},
   "source": [
    "## 2D version"
   ]
  },
  {
   "cell_type": "code",
   "execution_count": 44,
   "metadata": {},
   "outputs": [],
   "source": [
    "minX, maxX = 0.0, 1000.0\n",
    "minY, maxY = -35e3, 1000.0\n",
    "nx, ny = 10, 9\n",
    "n = nx*ny\n",
    "\n",
    "mesh = ConductionND((minX, minZ), (maxX, maxZ), (nx,ny))\n",
    "\n",
    "# BCs\n",
    "mesh.boundary_condition('maxY', 298.0, flux=False)\n",
    "mesh.boundary_condition('minY', 0.04, flux=True)"
   ]
  },
  {
   "cell_type": "code",
   "execution_count": 45,
   "metadata": {},
   "outputs": [
    {
     "data": {
      "text/plain": [
       "<matplotlib.colorbar.Colorbar at 0x7fa411e96c50>"
      ]
     },
     "execution_count": 45,
     "metadata": {},
     "output_type": "execute_result"
    },
    {
     "data": {
      "image/png": "[encoded data removed]",
      "text/plain": [
       "<matplotlib.figure.Figure at 0x7fa41029e210>"
      ]
     },
     "metadata": {},
     "output_type": "display_data"
    }
   ],
   "source": [
    "lithology = np.zeros((ny,nx), dtype='int32')\n",
    "lithology[3:7,:] = 1\n",
    "lithology[7:,:]  = 2\n",
    "\n",
    "plt.pcolor(lithology)\n",
    "plt.colorbar()"
   ]
  },
  {
   "cell_type": "code",
   "execution_count": 46,
   "metadata": {},
   "outputs": [],
   "source": [
    "inv = InversionND(lithology.flatten(), mesh)\n",
    "\n",
    "# inv.add_prior(k=kp, H=Hp, q0=q0p)"
   ]
  },
  {
   "cell_type": "code",
   "execution_count": 47,
   "metadata": {},
   "outputs": [],
   "source": [
    "nqs = 500\n",
    "\n",
    "qs = np.ones(nqs)*0.03\n",
    "sigma_qs = qs*0.5\n",
    "qs_coord = np.zeros((nqs,2))\n",
    "qs_coord[:,0] = np.linspace(minX, maxX, nqs)\n",
    "qs_coord[:,1] = 0.0\n",
    "qs_coord[:,1] = np.linspace(minY, maxY, nqs)\n",
    "\n",
    "qobs = InvObservation(qs, sigma_qs, qs_coord)\n",
    "\n",
    "inv.add_observation(q=qobs)"
   ]
  },
  {
   "cell_type": "code",
   "execution_count": 48,
   "metadata": {},
   "outputs": [
    {
     "name": "stdout",
     "output_type": "stream",
     "text": [
      "1 iterations\n",
      "1 iterations\n",
      "1 iterations\n",
      "finite difference 35.7533566606\n",
      "adjoint 35.2757785526\n"
     ]
    }
   ],
   "source": [
    "fm0 = forward_model(inv, x, bc='Y')\n",
    "fm1 = forward_model(inv, x+dx, bc='Y')\n",
    "ad = adjoint_model(inv, x, bc='Y')\n",
    "\n",
    "print \"finite difference\", (fm1 - fm0)\n",
    "print \"adjoint\", ad[1].dot(dx)"
   ]
  },
  {
   "cell_type": "code",
   "execution_count": 49,
   "metadata": {},
   "outputs": [],
   "source": [
    "inv = InversionND(lithology.flatten(), mesh)\n",
    "\n",
    "Tp = np.ones(lithology.size)*50\n",
    "sigma_Tp = 0.01*Tp\n",
    "\n",
    "Tobs = InvObservation(Tp, sigma_Tp, mesh.coords)\n",
    "inv.add_observation(T=Tobs)"
   ]
  },
  {
   "cell_type": "code",
   "execution_count": 50,
   "metadata": {},
   "outputs": [
    {
     "name": "stdout",
     "output_type": "stream",
     "text": [
      "1 iterations\n",
      "1 iterations\n",
      "1 iterations\n",
      "finite difference -0.00146660208702\n",
      "adjoint -0.00877203792334\n"
     ]
    }
   ],
   "source": [
    "fm0 = forward_model(inv, x, bc='Y')\n",
    "fm1 = forward_model(inv, x+dx, bc='Y')\n",
    "ad = adjoint_model(inv, x, bc='Y')\n",
    "\n",
    "print \"finite difference\", (fm1 - fm0)\n",
    "print \"adjoint\", ad[1].dot(dx)"
   ]
  },
  {
   "cell_type": "code",
   "execution_count": 51,
   "metadata": {},
   "outputs": [],
   "source": [
    "import benpy\n",
    "import conduction\n",
    "\n",
    "minX, maxX, resX = -63250.0, 768632.0, 800\n",
    "minY, maxY, resY = 5663750.0, 6227766.0, 550\n",
    "minZ, maxZ, resZ = -52000.0, 2200.0, 260\n",
    "\n",
    "Xcoords = np.linspace(minX, maxX, resX)\n",
    "Ycoords = np.linspace(minY, maxY, resY)\n",
    "Zcoords = np.linspace(minZ, maxZ, resZ)\n",
    "\n",
    "file_dir = \"/home/ben/git/python\"\n",
    "voxel = np.load(file_dir+'/data/victoria_model.npz')['data']\n",
    "\n",
    "\n",
    "HFdata = benpy.heatFlowData(file_dir+'/data/HF_Jun-2015.csv')\n",
    "thermalProperties = benpy.thermalProperties(file_dir+'/data/material_properties_condensed.csv')\n",
    "# startProperties = benpy.thermalProperties(file_dir+'/data/inverted_material_properties.csv')\n",
    "\n",
    "\n",
    "\n",
    "def find_nearest(array,value):\n",
    "    return (np.abs(array-value)).argmin()\n",
    "\n",
    "Ycut = find_nearest(Ycoords, 5966130.0)\n",
    "Xcut = find_nearest(Xcoords, 417000)\n",
    "Zcut = find_nearest(Zcoords, 0.0)\n",
    "\n",
    "# Xcut, Ycut, Zcut = resX-1, resY-1, resZ-1\n",
    "voxelSlice = voxel[:Zcut,Ycut,:Xcut] # nodata = -99999\n",
    "\n",
    "# Reset boundaries\n",
    "resX -= resX-Xcut\n",
    "resZ -= resZ-Zcut\n",
    "maxX = Xcoords[Xcut]\n",
    "maxZ = Zcoords[Zcut]\n",
    "Xcoords = np.linspace(minX, Xcoords[Xcut], resX)\n",
    "Zcoords = np.linspace(minZ, Zcoords[Zcut], resZ)\n",
    "\n",
    "xq, zq = np.meshgrid(Xcoords, Zcoords)\n",
    "yq = np.zeros_like(xq) + Ycoords[Ycut]\n",
    "\n",
    "\n",
    "# In[32]:\n",
    "\n",
    "lithology_index = sorted(list(set(voxelSlice.flatten())))\n",
    "size = len(lithology_index)\n",
    "\n",
    "# parameters can't be too wild\n",
    "bounds = {'k' : (0.5, 4.5),\n",
    "          'H' : (0.0, 5e-6),\n",
    "          'a' : (0.0, 1.0),\n",
    "          'Q0': (10e-3, 45e-3)}\n",
    "\n",
    "# Create bounds the same length as x\n",
    "x_bounds = [bounds['k'],]*size\n",
    "x_bounds.extend([bounds['H'],]*size)\n",
    "x_bounds.extend([bounds['a'],]*size)\n",
    "x_bounds.append(tuple(bounds['Q0']))\n",
    "# x_bounds = [()] * (size*3+1)\n",
    "\n",
    "\n",
    "k = np.zeros((size, 2))\n",
    "H = np.zeros((size, 2))\n",
    "a = np.zeros((size, 2))\n",
    "x0 = np.zeros(size*3+1)\n",
    "\n",
    "lithology = []\n",
    "i = 0\n",
    "for l, index in enumerate(thermalProperties.index):\n",
    "    if index in lithology_index:\n",
    "        lithology.append(thermalProperties.lithology[l])\n",
    "\n",
    "        k[i,0] = thermalProperties.conductivity[l]\n",
    "        k[i,1] = thermalProperties.conductivity_error[l]\n",
    "\n",
    "        H[i,0] = thermalProperties.heatProduction[l]\n",
    "        H[i,1] = thermalProperties.heatProduction_error[l]\n",
    "\n",
    "        if lithology[i] in ['Magdala Volcanics', 'Stavely Volcanics']:\n",
    "            a[i] = [0.25, 0.1/4]\n",
    "            x0[i+2*size] = 0.25\n",
    "        else:\n",
    "            a[i] = [0.33, 0.1/4]\n",
    "            x0[i+2*size] = 0.33\n",
    "\n",
    "        if lithology[i] in 'Topography':\n",
    "            x_bounds[i]      = (k[i,0], k[i,0])\n",
    "            x_bounds[i+size] = (H[i,0], H[i,0])\n",
    "            x_bounds[i+2*size] = (0.0, 0.0)\n",
    "            a[i] = [0, 0.1]\n",
    "\n",
    "        i += 1\n",
    "\n",
    "q0 = 30e-3\n",
    "sigma_q0 = 10e-3/4\n",
    "\n",
    "\n",
    "# We want to convert lithology index to a range\n",
    "voxelSlice2 = np.zeros_like(voxelSlice)\n",
    "for i, lith in enumerate(lithology_index):\n",
    "    mask = voxelSlice == lith\n",
    "    voxelSlice2[mask] = i\n",
    "voxelSlice = voxelSlice2\n",
    "\n",
    "\n",
    "## Initialisation\n",
    "radius = 10000.0 # distance from cross section\n",
    "\n",
    "HFdata.trim(np.where(HFdata.eastings < Xcoords.min())[0])\n",
    "HFdata.trim(np.where(HFdata.eastings > Xcoords.max())[0])\n",
    "\n",
    "remove = []\n",
    "for i, y in enumerate(HFdata.northings):\n",
    "    if abs(y - Ycoords[Ycut]) > radius:\n",
    "        remove.append(i)\n",
    "HFdata.trim(remove)\n",
    "HFdata.HF *= 1e-3\n",
    "HFdata.HFerror *= 1e-3\n",
    "\n",
    "\n",
    "# set up mesh\n",
    "mesh = conduction.ConductionND((minX, minZ), (maxX, maxZ), (resX, resZ))\n",
    "mesh.boundary_condition('maxY', 298.0, flux=False)\n",
    "mesh.boundary_condition('minY', q0, flux=True)\n",
    "\n",
    "# inv = benpy.Inversion(xq.flatten(), zq.flatten(), voxelSlice.flatten(), verbose=False, log=logfile)\n",
    "inv = conduction.InversionND(voxelSlice.flatten(), mesh, pc='lu')\n",
    "\n",
    "## Add priors\n",
    "kp  = InvPrior(k[:,0], k[:,1])\n",
    "Hp  = InvPrior(H[:,0], H[:,1])\n",
    "ap  = InvPrior(a[:,0], a[:,1])\n",
    "q0p = InvPrior(q0, sigma_q0)\n",
    "# inv.add_prior(k=kp, H=Hp, a=ap, q0=q0p)\n",
    "\n",
    "## Add observations\n",
    "qxy = np.empty((HFdata.HF.size, 2))\n",
    "qxy[:,0] = HFdata.eastings\n",
    "qxy[:,1] = maxZ\n",
    "qobs = InvObservation(HFdata.HF, HFdata.HFerror, qxy)\n",
    "inv.add_observation(q=qobs)\n",
    "\n",
    "\n",
    "# Starting x at priors\n",
    "x0 = np.concatenate([k[:,0], H[:,0], a[:,0], [q0]])"
   ]
  },
  {
   "cell_type": "code",
   "execution_count": 52,
   "metadata": {
    "scrolled": false
   },
   "outputs": [
    {
     "name": "stdout",
     "output_type": "stream",
     "text": [
      "7 iterations\n",
      "7 iterations\n",
      "7 iterations\n",
      "finite difference 4.98476553345\n",
      "adjoint 4.86173701344\n"
     ]
    }
   ],
   "source": [
    "x = x0\n",
    "dx = 0.01*x\n",
    "\n",
    "fm0 = forward_model(inv, x, 'Y')\n",
    "fm1 = forward_model(inv, x+dx, 'Y')\n",
    "ad = adjoint_model(inv, x, 'Y')\n",
    "\n",
    "print \"finite difference\", (fm1 - fm0)\n",
    "print \"adjoint\", ad[1].dot(dx)"
   ]
  },
  {
   "cell_type": "code",
   "execution_count": null,
   "metadata": {},
   "outputs": [],
   "source": [
    "forward_model(inv, x, 'Y')"
   ]
  },
  {
   "cell_type": "code",
   "execution_count": null,
   "metadata": {},
   "outputs": [],
   "source": [
    "temp = inv.mesh.temperature[:].reshape(inv.mesh.n)"
   ]
  },
  {
   "cell_type": "code",
   "execution_count": null,
   "metadata": {},
   "outputs": [],
   "source": [
    "plt.imshow(temp, origin='lower')\n",
    "plt.colorbar()"
   ]
  },
  {
   "cell_type": "code",
   "execution_count": null,
   "metadata": {},
   "outputs": [],
   "source": [
    "hf = inv.heatflux(temp.ravel(), inv.mesh.diffusivity[:])\n",
    "grad = inv.gradient(temp)\n",
    "diff = inv.mesh.diffusivity[:]"
   ]
  },
  {
   "cell_type": "code",
   "execution_count": null,
   "metadata": {},
   "outputs": [],
   "source": [
    "plt.imshow(diff.reshape(inv.mesh.n), origin='lower')\n",
    "plt.colorbar()"
   ]
  },
  {
   "cell_type": "code",
   "execution_count": null,
   "metadata": {},
   "outputs": [],
   "source": [
    "plt.imshow(grad[0].reshape(inv.mesh.n), origin='lower')\n",
    "plt.colorbar()"
   ]
  },
  {
   "cell_type": "code",
   "execution_count": null,
   "metadata": {
    "scrolled": true
   },
   "outputs": [],
   "source": [
    "plt.imshow(hf[0].reshape(inv.mesh.n), origin='lower')\n",
    "plt.colorbar()"
   ]
  },
  {
   "cell_type": "code",
   "execution_count": null,
   "metadata": {},
   "outputs": [],
   "source": [
    "hf[0][hf[0]!=0.0]"
   ]
  }
 ],
 "metadata": {
  "kernelspec": {
   "display_name": "Python 2",
   "language": "python",
   "name": "python2"
  },
  "language_info": {
   "codemirror_mode": {
    "name": "ipython",
    "version": 2
   },
   "file_extension": ".py",
   "mimetype": "text/x-python",
   "name": "python",
   "nbconvert_exporter": "python",
   "pygments_lexer": "ipython2",
   "version": "2.7.13"
  }
 },
 "nbformat": 4,
 "nbformat_minor": 2
}
