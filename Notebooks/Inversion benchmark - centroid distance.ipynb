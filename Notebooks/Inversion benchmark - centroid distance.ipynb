{
 "cells": [
  {
   "cell_type": "markdown",
   "metadata": {},
   "source": [
    "# Inversion benchmark - centroid distance\n",
    "\n",
    "Define a set of points around the boundary of a lithology then use their distance to the centroid as an inversion variable. It only has one degree of freedom (_expansion_ and _contraction_) but with enough points this should not matter.\n",
    "\n",
    "> **Problem statement**: We need a way to relate the spatial arrangement of nodes to lithology that is _differentiable_."
   ]
  },
  {
   "cell_type": "code",
   "execution_count": null,
   "metadata": {
    "collapsed": true
   },
   "outputs": [],
   "source": [
    "import numpy as np\n",
    "from time import clock\n",
    "from conduction import ConductionND\n",
    "from conduction.inversion import InvObservation, InvPrior\n",
    "from conduction import InversionND\n",
    "import matplotlib.pyplot as plt\n",
    "%matplotlib inline\n",
    "\n",
    "from petsc4py import PETSc\n",
    "from mpi4py import MPI\n",
    "comm = MPI.COMM_WORLD\n",
    "\n",
    "from scipy import ndimage"
   ]
  },
  {
   "cell_type": "code",
   "execution_count": null,
   "metadata": {
    "collapsed": true
   },
   "outputs": [],
   "source": [
    "minX, maxX = 0.0, 1000.0\n",
    "minY, maxY = -1000.0, 0.0\n",
    "nx, ny = 10, 10\n",
    "n = nx*ny\n",
    "\n",
    "mesh = ConductionND((minX, minY), (maxX, maxY), (nx,ny))\n",
    "\n",
    "# BCs\n",
    "mesh.boundary_condition('maxY', 298.0, flux=False)\n",
    "mesh.boundary_condition('minY', 1e3, flux=True)\n",
    "\n",
    "\n",
    "# Global lithology\n",
    "\n",
    "lithology = np.zeros((ny,nx), dtype='int32')\n",
    "lithology[3:7,:] = 1\n",
    "lithology[7:,:]  = 2\n",
    "\n",
    "lithology_ratios = np.empty_like(lithology, dtype=np.float)\n",
    "\n",
    "ratio0 = 1.0/(lithology == 0).sum()\n",
    "ratio1 = 1.0/(lithology == 1).sum()\n",
    "ratio2 = 1.0/(lithology == 2).sum()\n",
    "\n",
    "lithology_ratios.fill(ratio0)\n",
    "lithology_ratios[3:7,:] = ratio1\n",
    "lithology_ratios[7:, :] = ratio2\n",
    "\n",
    "\n",
    "# Need to slice this bad boy up: Local lithology\n",
    "\n",
    "(minI, maxI), (minJ, maxJ) = mesh.dm.getGhostRanges()\n",
    "lithology = lithology[minJ:maxJ, minI:maxI]"
   ]
  },
  {
   "cell_type": "code",
   "execution_count": null,
   "metadata": {
    "collapsed": true
   },
   "outputs": [],
   "source": [
    "inv = InversionND(lithology.flatten(), mesh)\n",
    "\n",
    "k = np.array([3.5, 2.0, 3.2])\n",
    "H = np.array([0.5e-6, 1e-6, 2e-6])\n",
    "a = np.array([0.3, 0.3, 0.3])\n",
    "q0 = 35e-3\n",
    "sigma_q0 = 5e-3\n",
    "\n",
    "\n",
    "# Inversion variables\n",
    "x = np.hstack([k, H, a, [q0], lithology_ratios.flatten()])\n",
    "dx = x*0.01\n",
    "dx[:10] = 0.0"
   ]
  },
  {
   "cell_type": "markdown",
   "metadata": {},
   "source": [
    "## Find boundary points\n",
    "\n",
    "We only have to do this once to find the point coordinates.\n",
    "\n",
    "Lithology transitions are sharp, and the boundary points must be located at \"imaginary\" nodes between the mesh.\n",
    "\n",
    "1. Use the sobel filter to identify lithology transitions (thickness of two cells)\n",
    "2. Iterate through lithologies, reducing sobel points to within the lithology and outside.\n",
    "3. Find the boundary (centroid) between points within lithology and neighbours that are within sobel filter."
   ]
  },
  {
   "cell_type": "code",
   "execution_count": null,
   "metadata": {},
   "outputs": [],
   "source": [
    "sobel_bands = []\n",
    "for i in xrange(inv.mesh.dim):\n",
    "    sobel_bands.append( ndimage.sobel(lithology, axis=i) )\n",
    "    \n",
    "sobel_bands = np.linalg.norm(sobel_bands, axis=0)\n",
    "\n",
    "bands = np.nonzero(sobel_bands)\n",
    "node_bands = np.nonzero(sobel_bands.ravel())[0]"
   ]
  },
  {
   "cell_type": "code",
   "execution_count": null,
   "metadata": {},
   "outputs": [],
   "source": [
    "neighbours = mesh.find_neighbours()\n",
    "\n",
    "node_bands_mask = np.zeros(mesh.nn, dtype=bool)\n",
    "node_bands_mask[node_bands] = True\n",
    "\n",
    "bpoints = [[] for _ in range(len(inv.lithology_index))]\n",
    "\n",
    "for l, lith in enumerate(inv.lithology_index):\n",
    "    lith_mask = lith == inv.lithology\n",
    "    lith_band  = np.nonzero(np.logical_and(lith_mask, node_bands_mask))[0]\n",
    "    other_band = np.nonzero(np.logical_and(~lith_mask, node_bands_mask))[0]\n",
    "    for node in lith_band:\n",
    "        # iterate through points along the boundary\n",
    "        neighbour_nodes = neighbours[node]\n",
    "        neighbour_set = set(neighbour_nodes).intersection(other_band)\n",
    "        for nnode in neighbour_set:\n",
    "            # iterate through neighbouring points along the boundary\n",
    "            bpt = 0.5*(mesh.coords[node] + mesh.coords[nnode])\n",
    "            bpoints[l].append( bpt )"
   ]
  },
  {
   "cell_type": "code",
   "execution_count": null,
   "metadata": {},
   "outputs": [],
   "source": [
    "fig = plt.figure()\n",
    "ax1 = fig.add_subplot(111)\n",
    "ax1.imshow(lithology, extent=mesh.extent)\n",
    "for l, lith in enumerate(inv.lithology_index):\n",
    "    bpts = np.vstack(bpoints[l])\n",
    "    ax1.scatter(bpts[:,0], bpts[:,1], alpha=0.5, label=\"lithology {}\".format(lith))\n",
    "ax1.legend(bbox_to_anchor=(1.5,1))"
   ]
  },
  {
   "cell_type": "markdown",
   "metadata": {},
   "source": [
    "## Map lithologies within hull of boundary points\n",
    "\n",
    "The boundary points are going to deform so we need map the volume contained by the boundary points to lithologies. We need to ensure nodes at the BCs remain fixed.\n",
    "\n",
    "1. Connect up the boundary points (and BC nodes)\n",
    "2. Mask all nodes contained within the hull of boundary points using a flood-fill algorithm\n",
    "3. Repeat for every lithology"
   ]
  },
  {
   "cell_type": "code",
   "execution_count": null,
   "metadata": {},
   "outputs": [],
   "source": [
    "def vfill(self):\n",
    "    \"\"\"\n",
    "    Flood-fill algorithm for the vertical axes\n",
    "    \"\"\"\n",
    "    def query_nearest(l):\n",
    "        layer_mask.fill(0)\n",
    "\n",
    "        zq = spl[l].ev(xq, yq)\n",
    "        d, idx = tree.query(np.column_stack([xq, yq, zq]))\n",
    "        layer_mask.flat[idx] = True\n",
    "\n",
    "        return np.where(layer_mask)\n",
    "\n",
    "    tree = self.ndinterp.tree\n",
    "    layer_voxel = np.zeros_like(lithology)\n",
    "    layer_mask = np.zeros_like(lithology, dtype=bool)\n",
    "    \n",
    "    nl = len(self.lithology_index)\n",
    "\n",
    "    for l in xrange(nl):\n",
    "        i0, j0 = query_nearest(l)\n",
    "\n",
    "        for i in xrange(i0.size):\n",
    "            layer_voxel[:i0[i], j0[i]] = l\n",
    "\n",
    "        print(\"mapped layer {}\".format(l))"
   ]
  },
  {
   "cell_type": "code",
   "execution_count": null,
   "metadata": {
    "collapsed": true
   },
   "outputs": [],
   "source": [
    "def forward_model(x, nbpts, self):\n",
    "    nl = len(self.lithology_index)\n",
    "    H = x[:nl] # just H for demonstration purposes\n",
    "    q0 = x[nl]\n",
    "    bpts = np.split(x[nl+1:], nbpts) # nbpts are integers specifying how many points belong to each lithology in x\n",
    "    \n",
    "    lithology = self.lithology.reshape(self.mesh.n)\n",
    "    qc = []\n",
    "    \n",
    "    for l, lith in enumerate(self.lithology_index):\n",
    "        mask = lithology == lith\n",
    "        nrow = mask.sum(axis=0)\n",
    "        dz = nrow*self.grid_delta[-1]\n",
    "#         z0 = bpts[l]\n",
    "#         qc = H[l]*(z0 - z1)\n",
    "        qc.append( H[l]*dz )\n",
    "    \n",
    "    qs = np.vstack(qc).sum(axis=0)\n",
    "    return np.sum((qs - qobs)**2/sigma_qobs**2)\n",
    "\n",
    "def tangent_linear(x, dx, nbpts, self):\n",
    "    nl = len(self.lithology_index)\n",
    "    H = x[:nl]\n",
    "    q0 = x[n]\n",
    "    dH = dx[:nl]\n",
    "    dq0 = dx[n]\n",
    "    \n",
    "    bpts = np.split(x[nl+1:], nbpts)\n",
    "    dbpts = np.split(dx[nl+1:], nbpts)\n",
    "    \n",
    "    lithology = self.lithology.reshape(self.mesh.n)\n",
    "    qc = []\n",
    "    \n",
    "    for l, lith in enumerate(self.lithology_index):\n",
    "        nrow = (lithology == lith).sum(axis=0)\n",
    "        dz = nrow*self.grid_delta[-1]\n",
    "        \n",
    "        qc.append( H[l]*dz )\n",
    "    \n",
    "    qs = np.vstack(qc).sum(axis=0)\n",
    "    cost = np.sum((qs - qobs)**2/sigma_qobs**2)"
   ]
  },
  {
   "cell_type": "code",
   "execution_count": null,
   "metadata": {},
   "outputs": [],
   "source": [
    "qobs = np.ones(nx)\n",
    "sigma_qobs = qobs / 10.\n"
   ]
  },
  {
   "cell_type": "code",
   "execution_count": null,
   "metadata": {
    "collapsed": true
   },
   "outputs": [],
   "source": []
  }
 ],
 "metadata": {
  "kernelspec": {
   "display_name": "Python 2",
   "language": "python",
   "name": "python2"
  },
  "language_info": {
   "codemirror_mode": {
    "name": "ipython",
    "version": 2
   },
   "file_extension": ".py",
   "mimetype": "text/x-python",
   "name": "python",
   "nbconvert_exporter": "python",
   "pygments_lexer": "ipython2",
   "version": "2.7.12"
  }
 },
 "nbformat": 4,
 "nbformat_minor": 2
}
