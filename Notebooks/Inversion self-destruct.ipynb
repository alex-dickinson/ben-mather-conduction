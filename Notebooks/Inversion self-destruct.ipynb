{
 "cells": [
  {
   "cell_type": "code",
   "execution_count": null,
   "metadata": {},
   "outputs": [],
   "source": [
    "import numpy as np\n",
    "from conduction import ConductionND\n",
    "from conduction import InversionND\n",
    "from petsc4py import PETSc\n",
    "import matplotlib.pyplot as plt\n",
    "%matplotlib inline"
   ]
  },
  {
   "cell_type": "code",
   "execution_count": null,
   "metadata": {
    "collapsed": true
   },
   "outputs": [],
   "source": [
    "minX, maxX = 0.0, 1000.0\n",
    "minY, maxY = 0.0, 1000.0\n",
    "minZ, maxZ = -35e3, 1000.0\n",
    "nx, ny, nz = 10, 9, 10\n",
    "n = nx*ny*nz\n",
    "\n",
    "mesh = ConductionND((minX, minY, minZ), (maxX, maxY, maxZ), (nx,ny,nz))\n",
    "\n",
    "# BCs\n",
    "mesh.boundary_condition('maxZ', 298.0, flux=False)\n",
    "mesh.boundary_condition('minZ', 0.04, flux=True)"
   ]
  },
  {
   "cell_type": "code",
   "execution_count": null,
   "metadata": {},
   "outputs": [],
   "source": [
    "lithology = np.zeros((nz,ny,nx), dtype='int32')\n",
    "lithology[:,3:7,:] = 1\n",
    "lithology[:,7:,:]  = 2\n",
    "\n",
    "plt.pcolor(lithology[5,:,:])\n",
    "plt.colorbar()"
   ]
  },
  {
   "cell_type": "code",
   "execution_count": null,
   "metadata": {},
   "outputs": [],
   "source": [
    "inv = InversionND(lithology.flatten(), mesh)"
   ]
  },
  {
   "cell_type": "code",
   "execution_count": null,
   "metadata": {
    "collapsed": true
   },
   "outputs": [],
   "source": [
    "def forward_model(self, x):\n",
    "    k_list, H_list = np.array_split(x[:-1], 2)\n",
    "    q0 = x[-1]\n",
    "    \n",
    "    # map to mesh\n",
    "    k0, H = self.map(k_list, H_list)\n",
    "    self.mesh.update_properties(k0, H)\n",
    "    self.mesh.boundary_condition(\"maxZ\", 298.0, flux=False)\n",
    "    self.mesh.boundary_condition(\"minZ\", q0, flux=True)\n",
    "    rhs = self.mesh.construct_rhs()\n",
    "    \n",
    "    # solve\n",
    "    T = self.linear_solve(rhs=rhs)\n",
    "    q = self.heatflux(T, k0)\n",
    "    \n",
    "    cost = 0.0\n",
    "    cost += self.objective_routine(q=q, T=T) # observations\n",
    "    cost += self.objective_routine(k=k_list, H=H_list, q0=q0) # priors\n",
    "    return cost"
   ]
  },
  {
   "cell_type": "code",
   "execution_count": null,
   "metadata": {
    "collapsed": true
   },
   "outputs": [],
   "source": [
    "def adjoint_model(self, x):\n",
    "    k_list, H_list = np.array_split(x[:-1], 2)\n",
    "    q0 = x[-1]\n",
    "    \n",
    "    # map to mesh\n",
    "    k0, H = self.map(k_list, H_list)\n",
    "    self.mesh.update_properties(k0, H)\n",
    "    self.mesh.boundary_condition(\"maxZ\", 298.0, flux=False)\n",
    "    self.mesh.boundary_condition(\"minZ\", q0, flux=True)\n",
    "    rhs = self.mesh.construct_rhs()\n",
    "    \n",
    "    # solve\n",
    "    T = self.linear_solve(rhs=rhs)\n",
    "    q = self.heatflux(T, k0)\n",
    "    \n",
    "    cost = 0.0\n",
    "    cost += self.objective_routine(q=q, T=T) # observations\n",
    "    cost += self.objective_routine(k=k_list, H=H_list, q0=q0) # priors\n",
    "    \n",
    "    ## AD ##\n",
    "    dk = np.zeros_like(H)\n",
    "    dH = np.zeros_like(H)\n",
    "    dT = np.zeros_like(H)\n",
    "    dq0 = np.array(0.0)\n",
    "    \n",
    "    # priors\n",
    "    dcdk_list = self.objective_routine_ad(k=k_list)\n",
    "    dcdH_list = self.objective_routine_ad(H=H_list)\n",
    "    dcdq0 = self.objective_routine_ad(q0=q0)\n",
    "    # observations\n",
    "    dT += self.objective_routine_ad(T=T)\n",
    "    dq = self.objective_routine_ad(q=q)\n",
    "\n",
    "    \n",
    "    dTq, dkq = self.heatflux_ad(dq, q, T, k0)\n",
    "    dT += dTq\n",
    "    dk += dkq\n",
    "    \n",
    "    # solve\n",
    "    dA, db = self.linear_solve_ad(T, dT)\n",
    "    \n",
    "    dk += dA\n",
    "    dH += -db\n",
    "    dz = np.diff(inv.mesh.grid_coords[-1]).mean()\n",
    "    lowerBC_mask = self.mesh.bc[\"minZ\"][\"mask\"]\n",
    "    dH[lowerBC_mask] += db[lowerBC_mask]/dz\n",
    "    dq0 += np.sum(-db[lowerBC_mask]/dz/inv.ghost_weights[lowerBC_mask])\n",
    "    \n",
    "    # pack to lists\n",
    "    dk_list, dH_list = inv.map_ad(dk, dH)\n",
    "    dk_list += dcdk_list\n",
    "    dH_list += dcdH_list\n",
    "    dq0 += dcdq0\n",
    "    \n",
    "    dx = np.hstack([dk_list, dH_list, [dq0]])\n",
    "    \n",
    "    return cost, dx"
   ]
  },
  {
   "cell_type": "code",
   "execution_count": null,
   "metadata": {
    "collapsed": true
   },
   "outputs": [],
   "source": [
    "k = np.array([3.5, 2.0, 3.2])\n",
    "H = np.array([0.1e-6, 1e-6, 2e-6])\n",
    "a = np.array([0., 0., 0.])\n",
    "q0 = 35e-3\n",
    "\n",
    "x = np.hstack([k, H, [q0]])\n",
    "dx = x*0.01\n",
    "\n",
    "# Priors\n",
    "k_prior = k*1.1\n",
    "H_prior = H*1.1\n",
    "a_prior = a*1.1\n",
    "q0_prior = np.array(30e-3)\n",
    "\n",
    "sigma_k = k*0.1\n",
    "sigma_H = H*0.1\n",
    "sigma_a = a*0.1\n",
    "sigma_q0 = np.array(5e-3)"
   ]
  },
  {
   "cell_type": "code",
   "execution_count": null,
   "metadata": {},
   "outputs": [],
   "source": [
    "from conduction.inversion import InvObservation, InvPrior\n",
    "\n",
    "kp = InvPrior(k_prior, sigma_k)\n",
    "Hp = InvPrior(H_prior, sigma_H)\n",
    "ap = InvPrior(a_prior, sigma_a)\n",
    "q0p = InvPrior(q0_prior, sigma_q0)\n",
    "\n",
    "inv.add_prior(k=kp, H=Hp, q0=q0p)"
   ]
  },
  {
   "cell_type": "code",
   "execution_count": null,
   "metadata": {},
   "outputs": [],
   "source": [
    "np.random.seed(0)\n",
    "\n",
    "qs = np.ones(5)*0.03\n",
    "sigma_qs = qs*0.5\n",
    "qs_coord = np.zeros((5,3))\n",
    "qs_coord[:,0] = np.random.random(5)*1e3\n",
    "qs_coord[:,1] = 0.0\n",
    "qs_coord[:,2] = np.random.random(5)*1e3\n",
    "\n",
    "qobs = InvObservation(qs, sigma_qs, qs_coord)\n",
    "\n",
    "inv.add_observation(q=qobs)"
   ]
  },
  {
   "cell_type": "code",
   "execution_count": null,
   "metadata": {},
   "outputs": [],
   "source": [
    "fm0 = forward_model(inv, x)\n",
    "fm1 = forward_model(inv, x+dx)\n",
    "ad = adjoint_model(inv, x)\n",
    "\n",
    "print \"finite difference\", (fm1 - fm0)\n",
    "print \"adjoint\", ad[1].dot(dx)"
   ]
  }
 ],
 "metadata": {
  "kernelspec": {
   "display_name": "Python 2",
   "language": "python",
   "name": "python2"
  },
  "language_info": {
   "codemirror_mode": {
    "name": "ipython",
    "version": 2
   },
   "file_extension": ".py",
   "mimetype": "text/x-python",
   "name": "python",
   "nbconvert_exporter": "python",
   "pygments_lexer": "ipython2",
   "version": "2.7.12"
  }
 },
 "nbformat": 4,
 "nbformat_minor": 2
}
