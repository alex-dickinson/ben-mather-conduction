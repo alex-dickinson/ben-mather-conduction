{
 "cells": [
  {
   "cell_type": "code",
   "execution_count": 1,
   "metadata": {},
   "outputs": [],
   "source": [
    "import numpy as np\n",
    "from conduction import ConductionND\n",
    "from conduction.inversion import InvObservation, InvPrior\n",
    "from conduction import InversionND\n",
    "from petsc4py import PETSc\n",
    "import matplotlib.pyplot as plt\n",
    "%matplotlib inline"
   ]
  },
  {
   "cell_type": "code",
   "execution_count": 2,
   "metadata": {},
   "outputs": [],
   "source": [
    "minX, maxX = 0.0, 1000.0\n",
    "minY, maxY = 0.0, 1000.0\n",
    "minZ, maxZ = -35e3, 1000.0\n",
    "nx, ny, nz = 10, 9, 10\n",
    "n = nx*ny*nz\n",
    "\n",
    "mesh = ConductionND((minX, minY, minZ), (maxX, maxY, maxZ), (nx,ny,nz))\n",
    "\n",
    "# BCs\n",
    "mesh.boundary_condition('maxZ', 298.0, flux=False)\n",
    "mesh.boundary_condition('minZ', 0.04, flux=True)"
   ]
  },
  {
   "cell_type": "code",
   "execution_count": 3,
   "metadata": {},
   "outputs": [
    {
     "data": {
      "text/plain": [
       "<matplotlib.colorbar.Colorbar at 0x7f762aaa3290>"
      ]
     },
     "execution_count": 3,
     "metadata": {},
     "output_type": "execute_result"
    },
    {
     "data": {
      "image/png": "[encoded data removed]",
      "text/plain": [
       "<matplotlib.figure.Figure at 0x7f762cbcaa50>"
      ]
     },
     "metadata": {},
     "output_type": "display_data"
    }
   ],
   "source": [
    "lithology = np.zeros((nz,ny,nx), dtype='int32')\n",
    "lithology[:,3:7,:] = 1\n",
    "lithology[:,7:,:]  = 2\n",
    "\n",
    "lithology_index = np.unique(lithology)\n",
    "\n",
    "plt.pcolor(lithology[5,:,:])\n",
    "plt.colorbar()"
   ]
  },
  {
   "cell_type": "code",
   "execution_count": 4,
   "metadata": {},
   "outputs": [],
   "source": [
    "def hofmeister1999(k0, T, a=0.25, c=0.0):\n",
    "    return k0*(298.0/T)**a + c*T**3\n",
    "\n",
    "def hofmeister1999_ad(k, T, a=0.25, c=0.0):\n",
    "    dkda = np.log(298.0/T)*k0*(298.0/T)**a\n",
    "    dkdk0 = (298.0/T)**a\n",
    "    dkdT = -a*k0/T*(298.0/T)**a\n",
    "    return dkdk0, dkdT, dkda\n",
    "\n",
    "def attenuation(Vsyn, P, psi, B):\n",
    "    Peff = P*0.1 - psi*P*0.1 # MPa\n",
    "    Q = 2.0*B * np.tan(0.26*np.pi/2) * np.exp(-Peff/12)\n",
    "    return Q\n",
    "\n",
    "def attenuation_ad(Vsyn, P, psi, B):\n",
    "    Peff = P*0.1 - psi*P*0.1 # MPa\n",
    "    Q = 2.0*B * np.tan(0.26*np.pi/2) * np.exp(-Peff/12)\n",
    "    dQdpsi = 0.1*P/12 * Q # !\n",
    "    dQdB = 2.0 * np.tan(0.26*np.pi/2) * np.exp(-Peff/12)"
   ]
  },
  {
   "cell_type": "code",
   "execution_count": 24,
   "metadata": {},
   "outputs": [],
   "source": [
    "def forward_model(self, x, bc='Z'):\n",
    "    k_list, H_list, a_list, psi_list, B_list = np.array_split(x[:-1], 5)\n",
    "    q0 = x[-1]\n",
    "    \n",
    "    # map to mesh\n",
    "    k0, H, a, psi, B = self.map(k_list, H_list, a_list, psi_list, B_list)\n",
    "    k = k0.copy()\n",
    "    \n",
    "    self.mesh.update_properties(k0, H)\n",
    "    self.mesh.boundary_condition(\"max\"+bc, 298.0, flux=False)\n",
    "    self.mesh.boundary_condition(\"min\"+bc, q0, flux=True)\n",
    "    rhs = self.mesh.construct_rhs()\n",
    "    \n",
    "    error = 10.\n",
    "    tolerance = 1e-5\n",
    "    i = 0\n",
    "    while error > tolerance:\n",
    "        k_last = k.copy()\n",
    "        self.mesh.diffusivity[:] = k\n",
    "        T = self.linear_solve(rhs=rhs) # solve\n",
    "        k = hofmeister1999(k0, T, a)\n",
    "        error = np.absolute(k - k_last).max()\n",
    "        i += 1\n",
    "    print(\"{} iterations\".format(i))\n",
    "        \n",
    "    q = self.heatflux(T, k)\n",
    "    delT = self.gradient(T)\n",
    "    rho, Vsp, dVspdT = self.lookup_velocity()\n",
    "    P = rho*np.abs(self.mesh.coords[:,-1])*9.806\n",
    "    \n",
    "    # attenuation\n",
    "    Q = attenuation(Vsp, P, psi, B)\n",
    "    Vs = Vsp * (1.0 - 0.5*(1.0/np.tan(np.pi*0.26/2.0))*Q)\n",
    "    self.Vsp = Vsp\n",
    "    self.Vs = Vs\n",
    "    self.Q = Q\n",
    "    \n",
    "    cost = 0.0\n",
    "    cost += self.objective_routine(q=q[0], T=T, delT=delT[0], Vs=Vs) # observations\n",
    "    cost += self.objective_routine(k=k_list, H=H_list, a=a_list, q0=q0) # priors\n",
    "    return cost"
   ]
  },
  {
   "cell_type": "code",
   "execution_count": 36,
   "metadata": {},
   "outputs": [],
   "source": [
    "def adjoint_model(self, x, bc='Z'):\n",
    "    k_list, H_list, a_list, psi_list, B_list = np.array_split(x[:-1], 5)\n",
    "    q0 = x[-1]\n",
    "    \n",
    "    # map to mesh\n",
    "    k0, H, a, psi, B = self.map(k_list, H_list, a_list, psi_list, B_list)\n",
    "    k = [k0.copy()]\n",
    "    T = [None]\n",
    "    \n",
    "    self.mesh.update_properties(k0, H)\n",
    "    self.mesh.boundary_condition(\"max\"+bc, 298.0, flux=False)\n",
    "    self.mesh.boundary_condition(\"min\"+bc, q0, flux=True)\n",
    "    rhs = self.mesh.construct_rhs()\n",
    "    \n",
    "    error = 10.\n",
    "    tolerance = 1e-5\n",
    "    i = 0\n",
    "    self.mesh.temperature._gdata.set(0.)\n",
    "    while error > tolerance:\n",
    "        self.mesh.diffusivity[:] = k[i]\n",
    "        # solve\n",
    "        Ti = self.linear_solve(rhs=rhs)\n",
    "        ki = hofmeister1999(k0, Ti, a)\n",
    "        T.append(Ti.copy())\n",
    "        k.append(ki.copy())\n",
    "        error = np.absolute(k[-1] - k[-2]).max()\n",
    "        i += 1\n",
    "    print(\"{} iterations\".format(i))\n",
    "\n",
    "    q = self.heatflux(T[-1], k[-1])\n",
    "    delT = self.gradient(T[-1])\n",
    "    rho, Vsp, dVspdT = self.lookup_velocity()\n",
    "    P = rho*np.abs(self.mesh.coords[:,-1])*9.806\n",
    "    \n",
    "    # attenuation\n",
    "    Q = attenuation(Vsp, P, psi, B)\n",
    "    Vs = Vsp * (1.0 - 0.5*(1.0/np.tan(np.pi*0.26/2.0))*Q)\n",
    "    \n",
    "    cost = 0.0\n",
    "    cost += self.objective_routine(q=q[0], T=T[-1], delT=delT[0], Vs=Vs) # observations\n",
    "    cost += self.objective_routine(k=k_list, H=H_list, a=a_list, q0=q0) # priors\n",
    "    \n",
    "    ## AD ##\n",
    "    dk = np.zeros_like(H)\n",
    "    dH = np.zeros_like(H)\n",
    "    dT = np.zeros_like(H)\n",
    "    da = np.zeros_like(H)\n",
    "    dk0 = np.zeros_like(H)\n",
    "    dq0 = np.array(0.0)\n",
    "    dpsi = np.zeros_like(H)\n",
    "    dB = np.zeros_like(H)\n",
    "    dQ = np.zeros_like(H)\n",
    "    \n",
    "    # priors\n",
    "    dcdk_list = self.objective_routine_ad(k=k_list)\n",
    "    dcdH_list = self.objective_routine_ad(H=H_list)\n",
    "    dcda_list = self.objective_routine_ad(a=a_list)\n",
    "    dcpsi_list = self.objective_routine_ad(psi=psi_list)\n",
    "    dcdB_list = self.objective_routine_ad(B=B_list)\n",
    "    dcdq0 = self.objective_routine_ad(q0=q0)\n",
    "    # observations\n",
    "    dT += self.objective_routine_ad(T=T[-1])\n",
    "\n",
    "    dq = np.zeros_like(q)\n",
    "    dq[0] = self.objective_routine_ad(q=q[0])\n",
    "    \n",
    "    ddelT = np.zeros_like(delT)\n",
    "    ddelT[0] = self.objective_routine_ad(delT=delT[0])\n",
    "    \n",
    "    dVs = self.objective_routine_ad(Vs=Vs)\n",
    "    dVsdQ = -Vsp*0.5*(1.0/np.tan(np.pi*0.26/2.0))\n",
    "    dVsdT = dVspdT*(1.0 - 0.5*(1.0/np.tan(np.pi*0.26/2.0))*Q)\n",
    "    dQdpsi, dQdB = attenuation_ad(Vsp, P, psi, B)\n",
    "    \n",
    "    dQ += dVsdQ*dVs\n",
    "    dT += dVsdT*dVs\n",
    "    dpsi += dQdpsi*dQ\n",
    "    dB += dQdB*dQ\n",
    "    \n",
    "\n",
    "    dTd = self.gradient_ad(ddelT, T[-1])\n",
    "    dT += dTd\n",
    "    \n",
    "    dTq, dkq = self.heatflux_ad(dq, q, T[-1], k[-1])\n",
    "    dT += dTq\n",
    "    dk += dkq\n",
    "    \n",
    "\n",
    "    # solve\n",
    "    for j in xrange(i):\n",
    "        dkdT, dkdk0, dkda = hofmeister_ad(T[-1-j], k0, a)\n",
    "        \n",
    "        dk0 += dkdk0*dk\n",
    "        dT  += dkdT*dk\n",
    "        da  += dkda*dk\n",
    "        \n",
    "        dk.fill(0.0)\n",
    "        \n",
    "\n",
    "        self.mesh.diffusivity[:] = k[-1-j]\n",
    "        dA, db = self.linear_solve_ad(T[-1-j], dT)\n",
    "\n",
    "        dk += dA\n",
    "        dH += -db\n",
    "        dz = self.grid_delta[-1]\n",
    "        lowerBC_mask = self.mesh.bc[\"min\"+bc][\"mask\"]\n",
    "        dq0 += np.sum(-db[lowerBC_mask]/dz/inv.ghost_weights[lowerBC_mask])\n",
    "        \n",
    "        dT.fill(0.0)\n",
    "        \n",
    "    dk0 += dk\n",
    "        \n",
    "    # pack to lists\n",
    "    dk_list, dH_list, da_list, dpsi_list, dB_list = inv.map_ad(dk0, dH, da, dpsi, dB)\n",
    "    dk_list += dcdk_list\n",
    "    dH_list += dcdH_list\n",
    "    da_list += dcda_list\n",
    "    dpsi_list += dcdpsi_list\n",
    "    dB_list += dcdB_list\n",
    "    dq0 += dcdq0\n",
    "    \n",
    "    dx = np.hstack([dk_list, dH_list, da_list, dpsi_list, dB_list, [dq0]])\n",
    "    \n",
    "    return cost, dx"
   ]
  },
  {
   "cell_type": "markdown",
   "metadata": {},
   "source": [
    "Construct Perplex table"
   ]
  },
  {
   "cell_type": "code",
   "execution_count": 37,
   "metadata": {},
   "outputs": [],
   "source": [
    "from conduction.tools import PerplexTable\n",
    "PerpleX_dir = \"/home/ben/Dropbox/PhD/Perplex/Projects/mq/\"\n",
    "\n",
    "T, P, rho, vs, vs_T = np.loadtxt(PerpleX_dir+'moralana/moralana1.tab', skiprows=13, unpack=True)\n",
    "\n",
    "vtable = PerplexTable(T,P)\n",
    "for idx in lithology_index:\n",
    "    field = np.column_stack([rho, vs, vs_T])\n",
    "    vtable.add_field(field, idx)"
   ]
  },
  {
   "cell_type": "code",
   "execution_count": 38,
   "metadata": {},
   "outputs": [],
   "source": [
    "inv = InversionND(lithology.flatten(), mesh)\n",
    "inv.add_perplex_table(vtable)\n",
    "\n",
    "k = np.array([3.5, 2.0, 3.2])\n",
    "H = np.array([0.1e-6, 1e-6, 2e-6])\n",
    "a = np.array([0.25, 0.25, 0.25])*0.0\n",
    "psi = np.array([0.999, 0.997, 0.998])\n",
    "B = np.array([0.38, 0.36, 0.37])\n",
    "q0 = 35e-3\n",
    "\n",
    "x = np.hstack([k, H, a, psi, B, [q0]])\n",
    "dx = x*0.01\n",
    "\n",
    "# Priors\n",
    "k_prior = k*1.1\n",
    "H_prior = H*1.1\n",
    "a_prior = a*1.1\n",
    "psi_prior = psi*1.1\n",
    "B_prior = B*1.1\n",
    "q0_prior = np.array(30e-3)\n",
    "\n",
    "sigma_k = k*0.1\n",
    "sigma_H = H*0.1\n",
    "sigma_a = a*0.1\n",
    "sigma_psi = psi*0.1\n",
    "sigma_B = B*0.1\n",
    "sigma_q0 = np.array(5e-3)"
   ]
  },
  {
   "cell_type": "code",
   "execution_count": 39,
   "metadata": {},
   "outputs": [
    {
     "name": "stdout",
     "output_type": "stream",
     "text": [
      "1 iterations\n",
      "1 iterations\n"
     ]
    },
    {
     "name": "stderr",
     "output_type": "stream",
     "text": [
      "/home/ben/.local/lib/python2.7/site-packages/ipykernel_launcher.py:12: RuntimeWarning: overflow encountered in exp\n",
      "  if sys.path[0] == '':\n",
      "/home/ben/.local/lib/python2.7/site-packages/ipykernel_launcher.py:33: RuntimeWarning: invalid value encountered in multiply\n"
     ]
    },
    {
     "name": "stdout",
     "output_type": "stream",
     "text": [
      "1 iterations\n"
     ]
    },
    {
     "ename": "TypeError",
     "evalue": "'NoneType' object is not iterable",
     "output_type": "error",
     "traceback": [
      "\u001b[0;31m---------------------------------------------------------------------------\u001b[0m",
      "\u001b[0;31mTypeError\u001b[0m                                 Traceback (most recent call last)",
      "\u001b[0;32m<ipython-input-39-29f401e17e1a>\u001b[0m in \u001b[0;36m<module>\u001b[0;34m()\u001b[0m\n\u001b[1;32m     10\u001b[0m \u001b[0mfm0\u001b[0m \u001b[0;34m=\u001b[0m \u001b[0mforward_model\u001b[0m\u001b[0;34m(\u001b[0m\u001b[0minv\u001b[0m\u001b[0;34m,\u001b[0m \u001b[0mx\u001b[0m\u001b[0;34m)\u001b[0m\u001b[0;34m\u001b[0m\u001b[0m\n\u001b[1;32m     11\u001b[0m \u001b[0mfm1\u001b[0m \u001b[0;34m=\u001b[0m \u001b[0mforward_model\u001b[0m\u001b[0;34m(\u001b[0m\u001b[0minv\u001b[0m\u001b[0;34m,\u001b[0m \u001b[0mx\u001b[0m\u001b[0;34m+\u001b[0m\u001b[0mdx\u001b[0m\u001b[0;34m)\u001b[0m\u001b[0;34m\u001b[0m\u001b[0m\n\u001b[0;32m---> 12\u001b[0;31m \u001b[0mad\u001b[0m \u001b[0;34m=\u001b[0m \u001b[0madjoint_model\u001b[0m\u001b[0;34m(\u001b[0m\u001b[0minv\u001b[0m\u001b[0;34m,\u001b[0m \u001b[0mx\u001b[0m\u001b[0;34m)\u001b[0m\u001b[0;34m\u001b[0m\u001b[0m\n\u001b[0m\u001b[1;32m     13\u001b[0m \u001b[0;34m\u001b[0m\u001b[0m\n\u001b[1;32m     14\u001b[0m \u001b[0;32mprint\u001b[0m \u001b[0;34m\"finite difference\"\u001b[0m\u001b[0;34m,\u001b[0m \u001b[0;34m(\u001b[0m\u001b[0mfm1\u001b[0m \u001b[0;34m-\u001b[0m \u001b[0mfm0\u001b[0m\u001b[0;34m)\u001b[0m\u001b[0;34m\u001b[0m\u001b[0m\n",
      "\u001b[0;32m<ipython-input-36-84e839cfb083>\u001b[0m in \u001b[0;36madjoint_model\u001b[0;34m(self, x, bc)\u001b[0m\n\u001b[1;32m     71\u001b[0m     \u001b[0mdVsdQ\u001b[0m \u001b[0;34m=\u001b[0m \u001b[0;34m-\u001b[0m\u001b[0mVsp\u001b[0m\u001b[0;34m*\u001b[0m\u001b[0;36m0.5\u001b[0m\u001b[0;34m*\u001b[0m\u001b[0;34m(\u001b[0m\u001b[0;36m1.0\u001b[0m\u001b[0;34m/\u001b[0m\u001b[0mnp\u001b[0m\u001b[0;34m.\u001b[0m\u001b[0mtan\u001b[0m\u001b[0;34m(\u001b[0m\u001b[0mnp\u001b[0m\u001b[0;34m.\u001b[0m\u001b[0mpi\u001b[0m\u001b[0;34m*\u001b[0m\u001b[0;36m0.26\u001b[0m\u001b[0;34m/\u001b[0m\u001b[0;36m2.0\u001b[0m\u001b[0;34m)\u001b[0m\u001b[0;34m)\u001b[0m\u001b[0;34m\u001b[0m\u001b[0m\n\u001b[1;32m     72\u001b[0m     \u001b[0mdVsdT\u001b[0m \u001b[0;34m=\u001b[0m \u001b[0mdVspdT\u001b[0m\u001b[0;34m*\u001b[0m\u001b[0;34m(\u001b[0m\u001b[0;36m1.0\u001b[0m \u001b[0;34m-\u001b[0m \u001b[0;36m0.5\u001b[0m\u001b[0;34m*\u001b[0m\u001b[0;34m(\u001b[0m\u001b[0;36m1.0\u001b[0m\u001b[0;34m/\u001b[0m\u001b[0mnp\u001b[0m\u001b[0;34m.\u001b[0m\u001b[0mtan\u001b[0m\u001b[0;34m(\u001b[0m\u001b[0mnp\u001b[0m\u001b[0;34m.\u001b[0m\u001b[0mpi\u001b[0m\u001b[0;34m*\u001b[0m\u001b[0;36m0.26\u001b[0m\u001b[0;34m/\u001b[0m\u001b[0;36m2.0\u001b[0m\u001b[0;34m)\u001b[0m\u001b[0;34m)\u001b[0m\u001b[0;34m*\u001b[0m\u001b[0mQ\u001b[0m\u001b[0;34m)\u001b[0m\u001b[0;34m\u001b[0m\u001b[0m\n\u001b[0;32m---> 73\u001b[0;31m     \u001b[0mdQdpsi\u001b[0m\u001b[0;34m,\u001b[0m \u001b[0mdQdB\u001b[0m \u001b[0;34m=\u001b[0m \u001b[0mattenuation_ad\u001b[0m\u001b[0;34m(\u001b[0m\u001b[0mVsp\u001b[0m\u001b[0;34m,\u001b[0m \u001b[0mP\u001b[0m\u001b[0;34m,\u001b[0m \u001b[0mpsi\u001b[0m\u001b[0;34m,\u001b[0m \u001b[0mB\u001b[0m\u001b[0;34m)\u001b[0m\u001b[0;34m\u001b[0m\u001b[0m\n\u001b[0m\u001b[1;32m     74\u001b[0m \u001b[0;34m\u001b[0m\u001b[0m\n\u001b[1;32m     75\u001b[0m     \u001b[0mdQ\u001b[0m \u001b[0;34m+=\u001b[0m \u001b[0mdVsdQ\u001b[0m\u001b[0;34m*\u001b[0m\u001b[0mdVs\u001b[0m\u001b[0;34m\u001b[0m\u001b[0m\n",
      "\u001b[0;31mTypeError\u001b[0m: 'NoneType' object is not iterable"
     ]
    }
   ],
   "source": [
    "kp = InvPrior(k_prior, sigma_k)\n",
    "Hp = InvPrior(H_prior, sigma_H)\n",
    "ap = InvPrior(a_prior, sigma_a)\n",
    "psip = InvPrior(psi_prior, sigma_psi)\n",
    "Bp = InvPrior(B_prior, sigma_B)\n",
    "q0p = InvPrior(q0_prior, sigma_q0)\n",
    "\n",
    "inv.add_prior(k=kp, H=Hp, a=ap, psi=psip, B=Bp, q0=q0p)\n",
    "\n",
    "fm0 = forward_model(inv, x)\n",
    "fm1 = forward_model(inv, x+dx)\n",
    "ad = adjoint_model(inv, x)\n",
    "\n",
    "print \"finite difference\", (fm1 - fm0)\n",
    "print \"adjoint\", ad[1].dot(dx)"
   ]
  },
  {
   "cell_type": "code",
   "execution_count": 56,
   "metadata": {},
   "outputs": [
    {
     "data": {
      "text/plain": [
       "<matplotlib.colorbar.Colorbar at 0x7f762a5248d0>"
      ]
     },
     "execution_count": 56,
     "metadata": {},
     "output_type": "execute_result"
    },
    {
     "data": {
      "image/png": "[encoded data removed]",
      "text/plain": [
       "<matplotlib.figure.Figure at 0x7f762ab751d0>"
      ]
     },
     "metadata": {},
     "output_type": "display_data"
    }
   ],
   "source": [
    "P = np.abs(mesh.coords[:,-1])*9.806*2700.\n",
    "Q = attenuation(inv.Vsp, P, 1.0, 0.38)\n",
    "Vs = inv.Vsp * (1.0 - 0.5*(1.0/np.tan(np.pi*0.26/2.0))*Q)\n",
    "plt.imshow(inv.Vsp.reshape(inv.mesh.n)[:,5,:])\n",
    "plt.colorbar()"
   ]
  },
  {
   "cell_type": "code",
   "execution_count": 62,
   "metadata": {},
   "outputs": [
    {
     "data": {
      "text/plain": [
       "(3, 900)"
      ]
     },
     "execution_count": 62,
     "metadata": {},
     "output_type": "execute_result"
    }
   ],
   "source": [
    "inv.lookup_velocity().shape"
   ]
  },
  {
   "cell_type": "code",
   "execution_count": 63,
   "metadata": {},
   "outputs": [
    {
     "data": {
      "text/plain": [
       "(900,)"
      ]
     },
     "execution_count": 63,
     "metadata": {},
     "output_type": "execute_result"
    }
   ],
   "source": [
    "inv.mesh.temperature[:].shape"
   ]
  },
  {
   "cell_type": "code",
   "execution_count": 18,
   "metadata": {},
   "outputs": [],
   "source": [
    "inv = InversionND(lithology.flatten(), mesh)\n",
    "inv.add_perplex_table(vtable)\n",
    "\n",
    "nVs = 500\n",
    "\n",
    "Vs = np.ones(nVs)*0.03\n",
    "sigma_Vs = Vs*0.5\n",
    "Vs_coord = np.zeros((nVs,3))\n",
    "Vs_coord[:,0] = np.linspace(minX, maxX, nVs)\n",
    "Vs_coord[:,1] = np.linspace(minY, maxY, nVs)\n",
    "Vs_coord[:,2] = np.linspace(minZ, maxZ, nVs)\n",
    "\n",
    "\n",
    "Vsobs = InvObservation(Vs, sigma_Vs, Vs_coord)\n",
    "\n",
    "inv.add_observation(Vs=Vsobs)"
   ]
  },
  {
   "cell_type": "code",
   "execution_count": 19,
   "metadata": {},
   "outputs": [
    {
     "name": "stdout",
     "output_type": "stream",
     "text": [
      "1 iterations\n",
      "1 iterations\n"
     ]
    },
    {
     "name": "stderr",
     "output_type": "stream",
     "text": [
      "/home/ben/.local/lib/python2.7/site-packages/ipykernel_launcher.py:12: RuntimeWarning: overflow encountered in exp\n",
      "  if sys.path[0] == '':\n",
      "/home/ben/.local/lib/python2.7/site-packages/ipykernel_launcher.py:33: RuntimeWarning: invalid value encountered in multiply\n"
     ]
    },
    {
     "name": "stdout",
     "output_type": "stream",
     "text": [
      "1 iterations\n"
     ]
    },
    {
     "ename": "TypeError",
     "evalue": "'NoneType' object is not iterable",
     "output_type": "error",
     "traceback": [
      "\u001b[0;31m---------------------------------------------------------------------------\u001b[0m",
      "\u001b[0;31mTypeError\u001b[0m                                 Traceback (most recent call last)",
      "\u001b[0;32m<ipython-input-19-e5c10c05e5a2>\u001b[0m in \u001b[0;36m<module>\u001b[0;34m()\u001b[0m\n\u001b[1;32m      1\u001b[0m \u001b[0mfm0\u001b[0m \u001b[0;34m=\u001b[0m \u001b[0mforward_model\u001b[0m\u001b[0;34m(\u001b[0m\u001b[0minv\u001b[0m\u001b[0;34m,\u001b[0m \u001b[0mx\u001b[0m\u001b[0;34m)\u001b[0m\u001b[0;34m\u001b[0m\u001b[0m\n\u001b[1;32m      2\u001b[0m \u001b[0mfm1\u001b[0m \u001b[0;34m=\u001b[0m \u001b[0mforward_model\u001b[0m\u001b[0;34m(\u001b[0m\u001b[0minv\u001b[0m\u001b[0;34m,\u001b[0m \u001b[0mx\u001b[0m\u001b[0;34m+\u001b[0m\u001b[0mdx\u001b[0m\u001b[0;34m)\u001b[0m\u001b[0;34m\u001b[0m\u001b[0m\n\u001b[0;32m----> 3\u001b[0;31m \u001b[0mad\u001b[0m \u001b[0;34m=\u001b[0m \u001b[0madjoint_model\u001b[0m\u001b[0;34m(\u001b[0m\u001b[0minv\u001b[0m\u001b[0;34m,\u001b[0m \u001b[0mx\u001b[0m\u001b[0;34m)\u001b[0m\u001b[0;34m\u001b[0m\u001b[0m\n\u001b[0m\u001b[1;32m      4\u001b[0m \u001b[0;34m\u001b[0m\u001b[0m\n\u001b[1;32m      5\u001b[0m \u001b[0;32mprint\u001b[0m \u001b[0;34m\"finite difference\"\u001b[0m\u001b[0;34m,\u001b[0m \u001b[0;34m(\u001b[0m\u001b[0mfm1\u001b[0m \u001b[0;34m-\u001b[0m \u001b[0mfm0\u001b[0m\u001b[0;34m)\u001b[0m\u001b[0;34m\u001b[0m\u001b[0m\n",
      "\u001b[0;32m<ipython-input-11-84e839cfb083>\u001b[0m in \u001b[0;36madjoint_model\u001b[0;34m(self, x, bc)\u001b[0m\n\u001b[1;32m     71\u001b[0m     \u001b[0mdVsdQ\u001b[0m \u001b[0;34m=\u001b[0m \u001b[0;34m-\u001b[0m\u001b[0mVsp\u001b[0m\u001b[0;34m*\u001b[0m\u001b[0;36m0.5\u001b[0m\u001b[0;34m*\u001b[0m\u001b[0;34m(\u001b[0m\u001b[0;36m1.0\u001b[0m\u001b[0;34m/\u001b[0m\u001b[0mnp\u001b[0m\u001b[0;34m.\u001b[0m\u001b[0mtan\u001b[0m\u001b[0;34m(\u001b[0m\u001b[0mnp\u001b[0m\u001b[0;34m.\u001b[0m\u001b[0mpi\u001b[0m\u001b[0;34m*\u001b[0m\u001b[0;36m0.26\u001b[0m\u001b[0;34m/\u001b[0m\u001b[0;36m2.0\u001b[0m\u001b[0;34m)\u001b[0m\u001b[0;34m)\u001b[0m\u001b[0;34m\u001b[0m\u001b[0m\n\u001b[1;32m     72\u001b[0m     \u001b[0mdVsdT\u001b[0m \u001b[0;34m=\u001b[0m \u001b[0mdVspdT\u001b[0m\u001b[0;34m*\u001b[0m\u001b[0;34m(\u001b[0m\u001b[0;36m1.0\u001b[0m \u001b[0;34m-\u001b[0m \u001b[0;36m0.5\u001b[0m\u001b[0;34m*\u001b[0m\u001b[0;34m(\u001b[0m\u001b[0;36m1.0\u001b[0m\u001b[0;34m/\u001b[0m\u001b[0mnp\u001b[0m\u001b[0;34m.\u001b[0m\u001b[0mtan\u001b[0m\u001b[0;34m(\u001b[0m\u001b[0mnp\u001b[0m\u001b[0;34m.\u001b[0m\u001b[0mpi\u001b[0m\u001b[0;34m*\u001b[0m\u001b[0;36m0.26\u001b[0m\u001b[0;34m/\u001b[0m\u001b[0;36m2.0\u001b[0m\u001b[0;34m)\u001b[0m\u001b[0;34m)\u001b[0m\u001b[0;34m*\u001b[0m\u001b[0mQ\u001b[0m\u001b[0;34m)\u001b[0m\u001b[0;34m\u001b[0m\u001b[0m\n\u001b[0;32m---> 73\u001b[0;31m     \u001b[0mdQdpsi\u001b[0m\u001b[0;34m,\u001b[0m \u001b[0mdQdB\u001b[0m \u001b[0;34m=\u001b[0m \u001b[0mattenuation_ad\u001b[0m\u001b[0;34m(\u001b[0m\u001b[0mVsp\u001b[0m\u001b[0;34m,\u001b[0m \u001b[0mP\u001b[0m\u001b[0;34m,\u001b[0m \u001b[0mpsi\u001b[0m\u001b[0;34m,\u001b[0m \u001b[0mB\u001b[0m\u001b[0;34m)\u001b[0m\u001b[0;34m\u001b[0m\u001b[0m\n\u001b[0m\u001b[1;32m     74\u001b[0m \u001b[0;34m\u001b[0m\u001b[0m\n\u001b[1;32m     75\u001b[0m     \u001b[0mdQ\u001b[0m \u001b[0;34m+=\u001b[0m \u001b[0mdVsdQ\u001b[0m\u001b[0;34m*\u001b[0m\u001b[0mdVs\u001b[0m\u001b[0;34m\u001b[0m\u001b[0m\n",
      "\u001b[0;31mTypeError\u001b[0m: 'NoneType' object is not iterable"
     ]
    }
   ],
   "source": [
    "fm0 = forward_model(inv, x)\n",
    "fm1 = forward_model(inv, x+dx)\n",
    "ad = adjoint_model(inv, x)\n",
    "\n",
    "print \"finite difference\", (fm1 - fm0)\n",
    "print \"adjoint\", ad[1].dot(dx)"
   ]
  },
  {
   "cell_type": "code",
   "execution_count": null,
   "metadata": {},
   "outputs": [],
   "source": []
  }
 ],
 "metadata": {
  "kernelspec": {
   "display_name": "Python 2",
   "language": "python",
   "name": "python2"
  },
  "language_info": {
   "codemirror_mode": {
    "name": "ipython",
    "version": 2
   },
   "file_extension": ".py",
   "mimetype": "text/x-python",
   "name": "python",
   "nbconvert_exporter": "python",
   "pygments_lexer": "ipython2",
   "version": "2.7.14"
  }
 },
 "nbformat": 4,
 "nbformat_minor": 2
}
